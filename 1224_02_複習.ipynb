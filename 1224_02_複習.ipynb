{
  "nbformat": 4,
  "nbformat_minor": 0,
  "metadata": {
    "colab": {
      "provenance": [],
      "include_colab_link": true
    },
    "kernelspec": {
      "name": "python3",
      "display_name": "Python 3"
    },
    "language_info": {
      "name": "python"
    }
  },
  "cells": [
    {
      "cell_type": "markdown",
      "metadata": {
        "id": "view-in-github",
        "colab_type": "text"
      },
      "source": [
        "<a href=\"https://colab.research.google.com/github/claireweng801006/python_lab/blob/main/1224_02_%E8%A4%87%E7%BF%92.ipynb\" target=\"_parent\"><img src=\"https://colab.research.google.com/assets/colab-badge.svg\" alt=\"Open In Colab\"/></a>"
      ]
    },
    {
      "cell_type": "markdown",
      "source": [
        "```python\n",
        "1. 環境設置\n",
        "   a. 本地環境:\n",
        "        a.1. 翻譯器: python 3.x\n",
        "        a.2. 輔助工具: Pycharm/VSCode\n",
        "Anaconda(X): 大集合\n",
        "   b. 線上環境:\n",
        "        b.1. repl.it\n",
        "        b.2. colab\n",
        "\n",
        "2. 一個完整的python程式就是.py檔案\n",
        "   從第一行執行到最後一行\n",
        "\n",
        "   colab她不能說是一個完整的python檔案\n",
        "   她是一個練習簿的感覺 你可以執行幾行\n",
        "   看一下結果 再執行幾行 以.ipynb結尾\n",
        "   (使用的是python套件 jupyter notebook)\n",
        "```\n",
        "\n",
        "\n",
        "\n"
      ],
      "metadata": {
        "id": "yRDiXRZolrp2"
      }
    },
    {
      "cell_type": "markdown",
      "source": [
        "```python\n",
        "第一個程式: bmi程式\n",
        "1. 可以讓使用者自由輸入她的身高體重\n",
        "2. 幫他計算bmi\n",
        "3. 給他點bmi建議\n",
        "\n",
        "\n",
        "1. 註解: 影響\"可讀性\"的一個重要要素\n",
        "  # xxxxx\n",
        "\n",
        "2. 功能: 參數 print(參數)\n",
        "  !!! 就算沒有參數, 也要有小括號 xxx()\n",
        "\n",
        "3. 排版也是影響\"可讀性\"很重要的要素\n",
        "  !!! \\控一格...\n",
        "  !!! 可以參考 pep coding style\n",
        "\n",
        "4. 不要重複寫: =\n",
        "  a. 5 == 3 + 2(左右是否相等?)\n",
        "  b. x = 3(取替)\n",
        "\n",
        "5. 型態(Type):\n",
        "  a. 數字型態: 包含整數(int) 小數(float)\n",
        "  b. 字串型態(str): \"xxx\"\n",
        "  !!! 任何符號都只是一個字\n",
        "  !!! 電話: 字串\n",
        "\n",
        "6. python對於型態是非常嚴格的一種語言\n",
        "  !!! 絕對不會\"偷偷\"幫你做任何型態轉換\n",
        "  !!! 數字+數字 ok 字串+字串 ok 字串+數字(X)\n",
        "  !!! \"ab\" + \"cd\" -> \"abcd\"\n",
        "\n",
        "7. 型態轉換功能: int() float() str()\n",
        "\n",
        "8. 如果...否則(IF-ELSE)\n",
        "\n",
        "if bmi > 25:\n",
        "    print\n",
        "    print\n",
        "    print\n",
        "else:\n",
        "    print\n",
        "\n",
        "縮排排版(冒號/TAB案件)\n",
        "Elwing:\n",
        "    xxxxxx\n",
        "    xxxxx\n",
        "\n",
        "9. 讓使用者輸入的功能\n",
        "input(字串)\n",
        "\n",
        "!!! 剛剛你學會了參數, 你要多學會另外一件事: 回傳值\n",
        "!!! 回傳值: 做完這個功能所丟回來的\"新的\"答案(check type)\n",
        "!!! 方便記憶: 你只要沒有做=設置, 值就是不會改變的\n",
        "\n",
        "```"
      ],
      "metadata": {
        "id": "MBlv0u8Clx-j"
      }
    },
    {
      "cell_type": "code",
      "source": [
        "# 練習-列印功能: print(參數) !!!就算沒有參數也要有小括號\n",
        "# BMI計算公式: bmi = weight(kg) / height(m) ^ 2"
      ],
      "metadata": {
        "id": "sRqs5WLOzKGe"
      },
      "execution_count": 1,
      "outputs": []
    },
    {
      "cell_type": "code",
      "source": [
        "print( 2 + 3 )\n",
        "print(70 / (175 / 100) ** 2 )"
      ],
      "metadata": {
        "colab": {
          "base_uri": "https://localhost:8080/"
        },
        "id": "I9HN4shB1QOJ",
        "outputId": "8442fb47-aabd-4561-baff-208816b2082e"
      },
      "execution_count": 2,
      "outputs": [
        {
          "output_type": "stream",
          "name": "stdout",
          "text": [
            "5\n",
            "22.857142857142858\n"
          ]
        }
      ]
    },
    {
      "cell_type": "code",
      "source": [
        "# 程式不要重複寫:\n",
        "# = 是取代的意思 ==才是相等於的意思\n",
        "print(70)\n",
        "print(175)\n",
        "print(70 / (175 / 100) ** 2)"
      ],
      "metadata": {
        "colab": {
          "base_uri": "https://localhost:8080/"
        },
        "id": "3-IVMevS271J",
        "outputId": "20ad87f8-3fa6-465b-c4cd-3bba62b2aba9"
      },
      "execution_count": 3,
      "outputs": [
        {
          "output_type": "stream",
          "name": "stdout",
          "text": [
            "70\n",
            "175\n",
            "22.857142857142858\n"
          ]
        }
      ]
    },
    {
      "cell_type": "code",
      "source": [
        "weight = 70\n",
        "height = 175\n",
        "print(weight)\n",
        "print(height)\n",
        "print(weight / (height / 100) ** 2)"
      ],
      "metadata": {
        "colab": {
          "base_uri": "https://localhost:8080/"
        },
        "id": "T0NkNMvn4JTy",
        "outputId": "32c70ee4-65c5-4acd-c956-cc6b17b77928"
      },
      "execution_count": 4,
      "outputs": [
        {
          "output_type": "stream",
          "name": "stdout",
          "text": [
            "70\n",
            "175\n",
            "22.857142857142858\n"
          ]
        }
      ]
    },
    {
      "cell_type": "code",
      "source": [
        "# 數字型態(type):\n",
        "# a. 整數(int) b. 小數或稱浮點數(float)\n",
        "type(3)"
      ],
      "metadata": {
        "colab": {
          "base_uri": "https://localhost:8080/"
        },
        "id": "A03SPlMR7dkG",
        "outputId": "8f20eb63-c0bf-4aea-ed68-8e22da374a3e"
      },
      "execution_count": 5,
      "outputs": [
        {
          "output_type": "execute_result",
          "data": {
            "text/plain": [
              "int"
            ]
          },
          "metadata": {},
          "execution_count": 5
        }
      ]
    },
    {
      "cell_type": "code",
      "source": [
        "type(3.14)"
      ],
      "metadata": {
        "colab": {
          "base_uri": "https://localhost:8080/"
        },
        "id": "-rB0EdRF7-E5",
        "outputId": "62726bbb-3a11-405f-f084-5f8e4cf72502"
      },
      "execution_count": 6,
      "outputs": [
        {
          "output_type": "execute_result",
          "data": {
            "text/plain": [
              "float"
            ]
          },
          "metadata": {},
          "execution_count": 6
        }
      ]
    },
    {
      "cell_type": "code",
      "source": [
        "type(3)\n",
        "type(3.14)"
      ],
      "metadata": {
        "colab": {
          "base_uri": "https://localhost:8080/"
        },
        "id": "soDVCDfM8CyE",
        "outputId": "74a6c5f3-8a0d-4dd1-841b-d5b20b51a897"
      },
      "execution_count": 7,
      "outputs": [
        {
          "output_type": "execute_result",
          "data": {
            "text/plain": [
              "float"
            ]
          },
          "metadata": {},
          "execution_count": 7
        }
      ]
    },
    {
      "cell_type": "code",
      "source": [
        "3 + 3.14"
      ],
      "metadata": {
        "colab": {
          "base_uri": "https://localhost:8080/"
        },
        "id": "SyjOGjgE8-JK",
        "outputId": "ed3b6499-2712-4d0c-a838-80f6b9bf04b9"
      },
      "execution_count": 8,
      "outputs": [
        {
          "output_type": "execute_result",
          "data": {
            "text/plain": [
              "6.140000000000001"
            ]
          },
          "metadata": {},
          "execution_count": 8
        }
      ]
    },
    {
      "cell_type": "markdown",
      "source": [
        "```python\n",
        "人類使用的數數方式叫做十進位\n",
        "0 1 2 3 4 ... 9 10 11\n",
        "\n",
        "八進味\n",
        "0 1 2 3 4 7 10 11 17 20 77 100\n",
        "\n",
        "電腦是二進味\n",
        "0 1 10 11 100 101 110 111 1000\n",
        "\n",
        "有限小數 -> 二進位還是有限小數(?)\n",
        "\n",
        "1/3 -> 0.333333(十進位無限) -> 0.1(三進位有限)\n",
        "\n",
        "所以你再說兩個小數的相等的時候不是說他們一模一樣, 而是他們的誤差小於多少你就認為這兩個小數相等\n",
        "```"
      ],
      "metadata": {
        "id": "ciYWmhJAvQ1Y"
      }
    },
    {
      "cell_type": "code",
      "source": [
        "import decimal\n",
        "print(3 + 3.14)\n",
        "print(decimal.Decimal(\"3\") + decimal.Decimal(\"3.14\"))"
      ],
      "metadata": {
        "colab": {
          "base_uri": "https://localhost:8080/"
        },
        "id": "SBUp2eshu6AU",
        "outputId": "96180d00-f8e4-461f-f94b-1f16f923a87a"
      },
      "execution_count": 9,
      "outputs": [
        {
          "output_type": "stream",
          "name": "stdout",
          "text": [
            "6.140000000000001\n",
            "6.14\n"
          ]
        }
      ]
    },
    {
      "cell_type": "code",
      "source": [
        "# 字串型態(str): \"xxx\"\n",
        "# !!!任何符號都只是一個字包含空白也是 EX:電話號碼或信用卡號碼\n",
        "# 數字+數字:O 字串+字串:O 數字+字串:X"
      ],
      "metadata": {
        "id": "O6N1tdql_GgT"
      },
      "execution_count": 10,
      "outputs": []
    },
    {
      "cell_type": "code",
      "source": [
        "# 型態轉換功能\n",
        "weight = 70\n",
        "height = 175\n",
        "bmi = weight / (height / 100) ** 2\n",
        "print(\"你的體重是:\" + str(weight)) #字串+字串才成立\n",
        "print(\"你的身高是:\" + str(height))\n",
        "print(\"你的BMI是:\" + str(bmi))"
      ],
      "metadata": {
        "colab": {
          "base_uri": "https://localhost:8080/"
        },
        "id": "D3tBbWTF_30O",
        "outputId": "b228866b-08be-4693-8a6b-dd249e3ae4ae"
      },
      "execution_count": 11,
      "outputs": [
        {
          "output_type": "stream",
          "name": "stdout",
          "text": [
            "你的體重是:70\n",
            "你的身高是:175\n",
            "你的BMI是:22.857142857142858\n"
          ]
        }
      ]
    },
    {
      "cell_type": "code",
      "source": [
        "# 縮排排版(冒號 / Tab鍵)\n",
        "# 語法if....else\n",
        "# 如果執行時出現IndentationError代表縮排錯誤\n",
        "weight = 70\n",
        "height = 175\n",
        "bmi = weight / (height / 100) ** 2\n",
        "print(\"你的體重是:\" + str(weight)) #字串+字串才成立\n",
        "print(\"你的身高是:\" + str(height))\n",
        "print(\"你的BMI是:\" + str(bmi))\n",
        "if bmi > 25:\n",
        "    print(\"過重\")\n",
        "    print(\"少吃多動\")\n",
        "else:\n",
        "    print(\"正常\")"
      ],
      "metadata": {
        "colab": {
          "base_uri": "https://localhost:8080/"
        },
        "id": "oUqFQgSMCuMF",
        "outputId": "49c3e151-a2ac-4bfd-d890-0de6aec82e03"
      },
      "execution_count": 12,
      "outputs": [
        {
          "output_type": "stream",
          "name": "stdout",
          "text": [
            "你的體重是:70\n",
            "你的身高是:175\n",
            "你的BMI是:22.857142857142858\n",
            "正常\n"
          ]
        }
      ]
    },
    {
      "cell_type": "code",
      "source": [
        "# 讓使用者輸入的功能: input(字串)\n",
        "input(\"xxxxxxxx\")"
      ],
      "metadata": {
        "id": "4V-tE_FWGTD9"
      },
      "execution_count": null,
      "outputs": []
    },
    {
      "cell_type": "code",
      "source": [
        "# demo 回傳值\n",
        "# 想到型態轉換功能\n",
        "# 但只要沒有做 = 的設置值就不會改變\n",
        "# 範例1\n",
        "a = 3.6\n",
        "int(a)\n",
        "print(a)"
      ],
      "metadata": {
        "colab": {
          "base_uri": "https://localhost:8080/"
        },
        "id": "mTSUQicDOo2P",
        "outputId": "7ab75487-bea7-4ac9-ce43-a9e67ab47701"
      },
      "execution_count": 16,
      "outputs": [
        {
          "output_type": "stream",
          "name": "stdout",
          "text": [
            "3.6\n"
          ]
        }
      ]
    },
    {
      "cell_type": "code",
      "source": [
        "# 範例2\n",
        "a = 3.6\n",
        "b = int(a)\n",
        "print(a)\n",
        "print(b)"
      ],
      "metadata": {
        "colab": {
          "base_uri": "https://localhost:8080/"
        },
        "id": "VbzksV9BHTdv",
        "outputId": "caff4ba7-7a2e-41c8-a6b6-f71d7e6d0ba8"
      },
      "execution_count": 15,
      "outputs": [
        {
          "output_type": "stream",
          "name": "stdout",
          "text": [
            "3.6\n",
            "3\n"
          ]
        }
      ]
    },
    {
      "cell_type": "code",
      "source": [
        "# !!! 沒有=, 值就不會改\n",
        "a = 3\n",
        "b = a + 2\n",
        "print(a)\n",
        "print(b)"
      ],
      "metadata": {
        "colab": {
          "base_uri": "https://localhost:8080/"
        },
        "id": "pycnuOBWQM6i",
        "outputId": "eb73c950-a6d9-4c3c-d3b8-56f76eabc59c"
      },
      "execution_count": 17,
      "outputs": [
        {
          "output_type": "stream",
          "name": "stdout",
          "text": [
            "3\n",
            "5\n"
          ]
        }
      ]
    },
    {
      "cell_type": "code",
      "source": [
        "# !!!回傳值切記要確認型態\n",
        "weight = float(input(\"請輸入體重:\"))\n",
        "height = float(input(\"請輸入身高:\"))\n",
        "bmi = weight / (height / 100) ** 2\n",
        "print(\"你的體重是:\" + str(weight)) #字串+字串才成立\n",
        "print(\"你的身高是:\" + str(height))\n",
        "print(\"你的BMI是:\" + str(bmi))\n",
        "if bmi > 25:\n",
        "    print(\"過重\") #記得縮排\n",
        "    print(\"少吃多動\")\n",
        "else:\n",
        "    print(\"正常\")"
      ],
      "metadata": {
        "colab": {
          "base_uri": "https://localhost:8080/"
        },
        "id": "A8LBYVotKwhH",
        "outputId": "f67436d4-71a9-4503-b450-c118df35aae3"
      },
      "execution_count": 19,
      "outputs": [
        {
          "output_type": "stream",
          "name": "stdout",
          "text": [
            "請輸入體重:75.5\n",
            "請輸入身高:170.5\n",
            "你的體重是:75.5\n",
            "你的身高是:170.5\n",
            "你的BMI是:25.971568871956723\n",
            "過重\n",
            "少吃多動\n"
          ]
        }
      ]
    },
    {
      "cell_type": "markdown",
      "source": [
        "# 剪刀石頭布\n",
        "\n",
        "```python\n",
        "\n",
        "1. 程式前: 想永遠比寫來的重要\n",
        "\n",
        "2. 先想核心 3 x 3(bad) 下一個贏上一個\n",
        "\n",
        "3. 想想細節: 該用什麼表示\n",
        "只要有大小(隱含)關係: 整數(從0開始)\n",
        "你要讓別人輸入: 整數\n",
        "\n",
        "4. 當你使用別隻.py的時候 你都要先引用(import)\n",
        "import .py名\n",
        "(把import後面照抄)....\n",
        "!!! 不管python內建的/第三方/你自己寫的, 你都要先import\n",
        "!!! 除了最內建的 https://docs.python.org/3/library/functions.html 都要import\n",
        "\n",
        "5. .是中文的\"的\"\n",
        "\n",
        "6. 清單型態(list)\n",
        "trans = [\"剪刀\", \"十頭\", \"布\"]\n",
        "清單在創的時候, python就會預設給她編號(0, 1, 2...)\n",
        "\n",
        "key(編號)-value: 拿key去查value\n",
        "查東西[key]\n",
        "\n",
        "7. 如果...否則如果...否則\n",
        "(單選題: 篩選效果, 嚴格要放上面)\n",
        "if bmi > 25:\n",
        "    print\n",
        "elif bmi > 18:\n",
        "    print\n",
        "else:\n",
        "    print\n",
        "\n",
        "!!! else是可以不寫的: 剩下不做事\n",
        "!!! else是剩下的, 很強, 最難的放在else\n",
        "\n",
        "8. 程式中: 記得邊念中文\n",
        "\n",
        "```"
      ],
      "metadata": {
        "id": "KAMapjccWTrV"
      }
    },
    {
      "cell_type": "code",
      "source": [
        "# 剪刀石頭布要比輸贏\n",
        "# 如果用字串下去比無法比大小故改用整數而且記得整數要從0開始數起\n",
        "input(\"0.剪刀 1.石頭 2.布:\")"
      ],
      "metadata": {
        "colab": {
          "base_uri": "https://localhost:8080/",
          "height": 53
        },
        "id": "OerYW-56RWBk",
        "outputId": "704a929c-c878-47fe-8cdc-24b43b10c497"
      },
      "execution_count": 20,
      "outputs": [
        {
          "name": "stdout",
          "output_type": "stream",
          "text": [
            "0.剪刀 1.石頭 2.布:0\n"
          ]
        },
        {
          "output_type": "execute_result",
          "data": {
            "text/plain": [
              "'0'"
            ],
            "application/vnd.google.colaboratory.intrinsic+json": {
              "type": "string"
            }
          },
          "metadata": {},
          "execution_count": 20
        }
      ]
    },
    {
      "cell_type": "code",
      "source": [
        "# 型態轉換\n",
        "my = int(input(\"0.剪刀 1.石頭 2.布:\"))"
      ],
      "metadata": {
        "colab": {
          "base_uri": "https://localhost:8080/"
        },
        "id": "igQgYanfSQsA",
        "outputId": "839e1ad5-ee9a-4e29-aaab-7d4002ade1bd"
      },
      "execution_count": 21,
      "outputs": [
        {
          "name": "stdout",
          "output_type": "stream",
          "text": [
            "0.剪刀 1.石頭 2.布:0\n"
          ]
        }
      ]
    },
    {
      "cell_type": "markdown",
      "source": [
        "參考網址: [random --- 生成偽隨機數](https://docs.python.org/zh-tw/3.13/library/random.html)\n",
        "\n",
        "random.randint(a, b)\n",
        "回傳一個隨機整數 N，使得 a <= N <= b。為 randrange(a, b+1) 的別名。"
      ],
      "metadata": {
        "id": "PZfyjO-dVLvF"
      }
    },
    {
      "cell_type": "code",
      "source": [
        "import random\n",
        "\n",
        "my = int(input(\"0.剪刀 1.石頭 2.布:\"))\n",
        "com = random.randint(0, 2) #0代表第一個參數;2代表最後一個參數\n",
        "print(my)\n",
        "print(com)"
      ],
      "metadata": {
        "colab": {
          "base_uri": "https://localhost:8080/"
        },
        "id": "KNv-RQJmWPHY",
        "outputId": "4b2a26c0-e109-498a-ad25-115949db997a"
      },
      "execution_count": 24,
      "outputs": [
        {
          "output_type": "stream",
          "name": "stdout",
          "text": [
            "0.剪刀 1.石頭 2.布:2\n",
            "2\n",
            "1\n"
          ]
        }
      ]
    },
    {
      "cell_type": "code",
      "source": [
        "import random\n",
        "\n",
        "my = int(input(\"0.剪刀 1.石頭 2.布:\"))\n",
        "com = random.randint(0, 2) #0代表第一個參數;2代表最後一個參數\n",
        "# 有兩種方式\n",
        "# 方式一: 要轉成字串較麻煩\n",
        "print(\"我出的:\" + str(my)) #字串+字串等於一個參數\n",
        "# 方式二: 帶入多個參數\n",
        "print(\"電腦的:\", com) #兩個參數"
      ],
      "metadata": {
        "colab": {
          "base_uri": "https://localhost:8080/"
        },
        "id": "DA1oP1gKXzN8",
        "outputId": "71d7cada-b222-4d16-fb14-e9829f1a504b"
      },
      "execution_count": 25,
      "outputs": [
        {
          "output_type": "stream",
          "name": "stdout",
          "text": [
            "0.剪刀 1.石頭 2.布:2\n",
            "我出的:2\n",
            "電腦的: 0\n"
          ]
        }
      ]
    },
    {
      "cell_type": "code",
      "source": [
        "import random\n",
        "\n",
        "my = int(input(\"0.剪刀 1.石頭 2.布:\"))\n",
        "com = random.randint(0, 2) #0代表第一個參數;2代表最後一個參數\n",
        "print(\"我出的:\", my)\n",
        "print(\"電腦的:\", com)"
      ],
      "metadata": {
        "colab": {
          "base_uri": "https://localhost:8080/"
        },
        "id": "GPwgVhFKZZPK",
        "outputId": "82e14fa6-79c2-4852-9411-5b6c86ebee2d"
      },
      "execution_count": 26,
      "outputs": [
        {
          "output_type": "stream",
          "name": "stdout",
          "text": [
            "0.剪刀 1.石頭 2.布:0\n",
            "我出的: 0\n",
            "電腦的: 2\n"
          ]
        }
      ]
    },
    {
      "cell_type": "code",
      "source": [
        "# 清單型態(list):使用中括號[]\n",
        "# 創建清單時就會預設編號(0, 1, 2....)\n",
        "# key(編號)-value語法:查東西[key]"
      ],
      "metadata": {
        "id": "jNUK7Sayax6l"
      },
      "execution_count": null,
      "outputs": []
    },
    {
      "cell_type": "code",
      "source": [
        "# key-value查詢[字串]\n",
        "s = \"abcdef\"\n",
        "s[5]"
      ],
      "metadata": {
        "colab": {
          "base_uri": "https://localhost:8080/",
          "height": 36
        },
        "id": "faSx8_mCi5Wl",
        "outputId": "d6882c8b-f684-4a18-c9c9-972e8237a3f3"
      },
      "execution_count": 27,
      "outputs": [
        {
          "output_type": "execute_result",
          "data": {
            "text/plain": [
              "'f'"
            ],
            "application/vnd.google.colaboratory.intrinsic+json": {
              "type": "string"
            }
          },
          "metadata": {},
          "execution_count": 27
        }
      ]
    },
    {
      "cell_type": "code",
      "source": [
        "s = [0, 1, 2, 3, 4, 5]\n",
        "s[5] #由0開始查詢到第5個"
      ],
      "metadata": {
        "colab": {
          "base_uri": "https://localhost:8080/"
        },
        "id": "WKSQbxercMAe",
        "outputId": "7069d7c6-3515-4a60-b340-4f015e316750"
      },
      "execution_count": 28,
      "outputs": [
        {
          "output_type": "execute_result",
          "data": {
            "text/plain": [
              "5"
            ]
          },
          "metadata": {},
          "execution_count": 28
        }
      ]
    },
    {
      "cell_type": "code",
      "source": [
        "import random\n",
        "\n",
        "my = int(input(\"0.剪刀 1.石頭 2.布:\"))\n",
        "com = random.randint(0, 2) # 0代表第一個參數;2代表最後一個參數\n",
        "trans = [\"剪刀\", \"石頭\", \"布\"] # 清單list\n",
        "print(\"我出的:\", trans[my]) # key-value查詢[字串]\n",
        "print(\"電腦的:\", trans[com]) # key-value查詢[字串]"
      ],
      "metadata": {
        "colab": {
          "base_uri": "https://localhost:8080/"
        },
        "id": "mcZJRdJ0cpFE",
        "outputId": "c6533704-89f3-45e3-8a69-b4e42847092d"
      },
      "execution_count": 29,
      "outputs": [
        {
          "output_type": "stream",
          "name": "stdout",
          "text": [
            "0.剪刀 1.石頭 2.布:0\n",
            "我出的: 剪刀\n",
            "電腦的: 布\n"
          ]
        }
      ]
    },
    {
      "cell_type": "code",
      "source": [
        "# 多層語法: 如果...否則如果...否則\n",
        "# 篩選效果, 條件嚴格的要放在最上面)\n",
        "# else是剩下的\n",
        "if bmi > 25:\n",
        "    print\n",
        "elif bmi > 18:\n",
        "    print\n",
        "else:\n",
        "    print"
      ],
      "metadata": {
        "id": "JAaQVKYefLEC"
      },
      "execution_count": null,
      "outputs": []
    },
    {
      "cell_type": "code",
      "source": [
        "import random\n",
        "\n",
        "my = int(input(\"0.剪刀 1.石頭 2.布:\"))\n",
        "com = random.randint(0, 2) # 0代表第一個參數;2代表最後一個參數\n",
        "trans = [\"剪刀\", \"石頭\", \"布\"] # 清單list\n",
        "print(\"我出的:\", trans[my]) # key-value查詢[字串]\n",
        "print(\"電腦的:\", trans[com]) # key-value查詢[字串]\n",
        "\n",
        "if my == com + 1: # 如果我是你的(電腦)下一個\n",
        "    print(\"WIN\") # 我就贏了\n",
        "elif com == my + 1: # 否則你(電腦)是我的下一個\n",
        "    print(\"LOSE\") # 我就輸了\n",
        "else: # 否則就是平手\n",
        "    print(\"EVEN\")"
      ],
      "metadata": {
        "colab": {
          "base_uri": "https://localhost:8080/"
        },
        "id": "i0C6PlPLnP1V",
        "outputId": "bc65930b-af5d-4339-ecc8-724f3bdc6e6c"
      },
      "execution_count": 30,
      "outputs": [
        {
          "output_type": "stream",
          "name": "stdout",
          "text": [
            "0.剪刀 1.石頭 2.布:0\n",
            "我出的: 剪刀\n",
            "電腦的: 剪刀\n",
            "EVEN\n"
          ]
        }
      ]
    },
    {
      "cell_type": "markdown",
      "source": [
        "\n",
        "\n",
        "# 數學概念(循環)\n",
        "\n",
        "```python\n",
        "1. 剪刀石頭布: 我們很明顯有個循環的概念存在\n",
        "0->1->2->0(3)\n",
        "\n",
        "2. 本來想-3, 但是是超過的時候才-3\n",
        "7 / 3 = 2...1\n",
        "\n",
        "a. 取商: 7 // 3 -> 2\n",
        "b. 取餘(mod): 7 % 3 -> 1 (循環運算)\n",
        "\n",
        "0 % 3 = 0\n",
        "1 % 3 = 1\n",
        "2 % 3 = 2\n",
        "3 % 3 = 0\n",
        "4 % 3 = 1\n",
        "5 % 3 = 2\n",
        "6 % 3 = 0\n",
        "\n",
        "!!! 0-4: %5 0-9: %10 0-x:%(x+1)\n",
        "!!! 什麼時候要取: 有可能超過\n",
        "\n",
        "```"
      ],
      "metadata": {
        "id": "APB3soDZneiB"
      }
    },
    {
      "cell_type": "code",
      "source": [
        "# 取餘數操作來達成循環->除法就是高級的減法, 超過才減的減法\n",
        "# !!!公式0-4: %5 0-9: %10 0-x: %(x+1)\n",
        "# !!!什麼時候要取: 有可能超過"
      ],
      "metadata": {
        "id": "0b-qfq4rpo1Q"
      },
      "execution_count": null,
      "outputs": []
    },
    {
      "cell_type": "code",
      "source": [
        "import random\n",
        "\n",
        "my = int(input(\"0.剪刀 1.石頭 2.布:\"))\n",
        "com = random.randint(0, 2)\n",
        "trans = [\"剪刀\", \"石頭\", \"布\"]\n",
        "print(\"我出的:\", trans[my])\n",
        "print(\"電腦的:\", trans[com])\n",
        "\n",
        "# >, >=, <, <=, ==\n",
        "if my == (com + 1) % 3:\n",
        "    print(\"WIN\")\n",
        "elif com == (my + 1) % 3:\n",
        "    print(\"LOSE\")\n",
        "else:\n",
        "    print(\"EVEN\")\n",
        "# 如果你的縮排在這裡 什麼時候都會印\n",
        "print(\"!!!!!!!\")"
      ],
      "metadata": {
        "id": "oPkJl9uwZcLY",
        "colab": {
          "base_uri": "https://localhost:8080/"
        },
        "outputId": "1bc01f61-1202-4fc1-c9d2-f0267824ea04"
      },
      "execution_count": 31,
      "outputs": [
        {
          "output_type": "stream",
          "name": "stdout",
          "text": [
            "0.剪刀 1.石頭 2.布:0\n",
            "我出的: 剪刀\n",
            "電腦的: 剪刀\n",
            "EVEN\n",
            "!!!!!!!\n"
          ]
        }
      ]
    },
    {
      "cell_type": "markdown",
      "source": [
        "![作業.png](data:image/png;base64,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)"
      ],
      "metadata": {
        "id": "6wMhG0SntSXU"
      }
    },
    {
      "cell_type": "code",
      "source": [
        "# 作業\n",
        "# 模式: 0輸給1; 1輸給2; 2輸給0\n",
        "# 分兩組"
      ],
      "metadata": {
        "id": "RfHutjmFus-g"
      },
      "execution_count": null,
      "outputs": []
    },
    {
      "cell_type": "code",
      "source": [
        "# 想法\n",
        "import random\n",
        "\n",
        "# my = int(input(\"0-5:\"))\n",
        "# com = random.randint(0, 5)\n",
        "my = 3\n",
        "com = 5\n",
        "# 準備一個翻譯清單 來把我們原本的0-5換成中文\n",
        "trans = [\"剪刀(0)\", \"石頭(0)\", \"布(0)\",\n",
        "      \"剪刀(1)\", \"石頭(1)\", \"布(1)\"]\n",
        "print(\"我出的:\", trans[my])\n",
        "print(\"電腦的:\", trans[com])\n",
        "\n",
        "# 第一步:先確定他們是否同組\n",
        "# 取商: 分組運算  取餘: 循環運算\n",
        "# 0 // 3: 0 ->取商0\n",
        "# 1 // 3: 0 ->取商0\n",
        "# 2 // 3: 0 ->取商0\n",
        "# 3 // 3: 1 ->取商1\n",
        "# 4 // 3: 1 ->取商1\n",
        "# 5 // 3: 1 ->取商1\n",
        "# 6 // 3: 2 ->取商2\n",
        "if 同組:\n",
        "    # 情況1: my, com都是0~2 (0~2)\n",
        "    # 情況2: my, com都是3~5 (0~2)\n",
        "    # 如果是3~5 回到0~2(取餘數)\n",
        "    if\n",
        "        print(\"WIN\")\n",
        "    elif\n",
        "        print(\"LOSE\")\n",
        "    else:\n",
        "        print(\"EVEN\")\n",
        "else:\n",
        "    print(\"平手(不同組)\")"
      ],
      "metadata": {
        "id": "DRb1RrQhwXGn"
      },
      "execution_count": null,
      "outputs": []
    },
    {
      "cell_type": "code",
      "source": [
        "import random\n",
        "\n",
        "# my = int(input(\"0-5:\"))\n",
        "# com = random.randint(0, 5)\n",
        "my = 3\n",
        "com = 5\n",
        "# 準備一個翻譯清單 來把我們原本的0-5換成中文\n",
        "trans = [\"剪刀(0)\", \"石頭(0)\", \"布(0)\",\n",
        "      \"剪刀(1)\", \"石頭(1)\", \"布(1)\"]\n",
        "print(\"我出的:\", trans[my])\n",
        "print(\"電腦的:\", trans[com])\n",
        "\n",
        "# 第一步:先確定他們是否同組\n",
        "# 取商: 分組運算  取餘: 循環運算\n",
        "# 0 // 3: 0 ->取商0\n",
        "# 1 // 3: 0 ->取商0\n",
        "# 2 // 3: 0 ->取商0\n",
        "# 3 // 3: 1 ->取商1\n",
        "# 4 // 3: 1 ->取商1\n",
        "# 5 // 3: 1 ->取商1\n",
        "# 6 // 3: 2 ->取商2\n",
        "mygroup = my // 3\n",
        "comgroup = com // 3\n",
        "if mygroup == comgroup:\n",
        "    # 情況1: my, com都是0~2\n",
        "    # 情況2: my, com都是3~5\n",
        "    # 如果是3~5 回到0~2(餘數)\n",
        "    if\n",
        "    elif\n",
        "    else\n",
        "else:\n",
        "    print(\"平手(不同組)\")"
      ],
      "metadata": {
        "id": "qGtTgCXg0b1t"
      },
      "execution_count": null,
      "outputs": []
    },
    {
      "cell_type": "code",
      "source": [
        "# 答案\n",
        "import random\n",
        "\n",
        "# my = int(input(\"0-5:\"))\n",
        "# com = random.randint(0, 5)\n",
        "my = 3\n",
        "com = 5\n",
        "# 準備一個翻譯清單 來把我們原本的0-5換成中文\n",
        "trans = [\"剪刀(0)\", \"石頭(0)\", \"布(0)\",\n",
        "      \"剪刀(1)\", \"石頭(1)\", \"布(1)\"]\n",
        "print(\"我出的:\", trans[my])\n",
        "print(\"電腦的:\", trans[com])\n",
        "\n",
        "# 第一步:先確定他們是否同組\n",
        "# 取商: 分組 取餘: 循環\n",
        "mygroup = my // 3\n",
        "comgroup = com // 3\n",
        "if mygroup == comgroup:\n",
        "    # 情況1: my, com都是0~2  不用動\n",
        "    # 情況2: my, com都是3~5  -3\n",
        "    # 合併成同一情況 0 1 2(把這組最低-0)\n",
        "    # 如果是3~5 回到0~2(餘數)\n",
        "    my2 =  my % 3\n",
        "    com2 = com % 3\n",
        "    # 本來的剪刀石頭布\n",
        "    if my2 == (com2 + 1) % 3:\n",
        "        print(\"WIN\")\n",
        "    elif com2 == (my2 + 1) % 3:\n",
        "        print(\"LOSE\")\n",
        "    else:\n",
        "        print(\"EVEN\")\n",
        "else:\n",
        "    print(\"平手(不同組)\")"
      ],
      "metadata": {
        "colab": {
          "base_uri": "https://localhost:8080/"
        },
        "id": "UjIW2-VWtWQG",
        "outputId": "47d49fbf-c4c4-45f3-d8b8-cee7619172ed"
      },
      "execution_count": 37,
      "outputs": [
        {
          "output_type": "stream",
          "name": "stdout",
          "text": [
            "我出的: 剪刀(1)\n",
            "電腦的: 布(1)\n",
            "WIN\n"
          ]
        }
      ]
    },
    {
      "cell_type": "markdown",
      "source": [
        "```python\n",
        "my == (com - 1) % 3\n",
        "\n",
        "2 -> 1 -> 0 -> 2 -> 1 -> 0\n",
        "2 % 3 = 2\n",
        "1 % 3 = 1\n",
        "0 % 3 = 0\n",
        "-1 % 3 = 2(!!!!)\n",
        "\n",
        "```"
      ],
      "metadata": {
        "id": "6bYdDRrsMmnN"
      }
    },
    {
      "cell_type": "code",
      "source": [
        "-5 % 3"
      ],
      "metadata": {
        "colab": {
          "base_uri": "https://localhost:8080/"
        },
        "id": "lXL6ygBGNFis",
        "outputId": "4d34bb34-908c-45e0-e5fd-aac0cfb3521f"
      },
      "execution_count": 33,
      "outputs": [
        {
          "output_type": "execute_result",
          "data": {
            "text/plain": [
              "1"
            ]
          },
          "metadata": {},
          "execution_count": 33
        }
      ]
    }
  ]
}